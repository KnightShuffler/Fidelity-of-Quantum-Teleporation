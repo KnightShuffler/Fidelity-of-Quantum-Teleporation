{
 "cells": [
  {
   "cell_type": "code",
   "execution_count": 1,
   "id": "6bfc7d5f",
   "metadata": {},
   "outputs": [],
   "source": [
    "import numpy as np\n",
    "# Importing standard Qiskit libraries\n",
    "from qiskit import QuantumCircuit, QuantumRegister, ClassicalRegister\n",
    "from qiskit import transpile, Aer, execute, IBMQ\n",
    "from qiskit.extensions import Initialize\n",
    "from qiskit.tools.jupyter import *\n",
    "from qiskit.visualization import *\n",
    "from ibm_quantum_widgets import *\n",
    "\n",
    "# Loading your IBM Quantum account(s)\n",
    "provider = IBMQ.load_account()\n",
    "\n",
    "statevector_sim = Aer.get_backend('statevector_simulator')"
   ]
  },
  {
   "cell_type": "markdown",
   "id": "49adea27",
   "metadata": {},
   "source": [
    "# The Quantum Teleportation Circuit\n",
    "\n",
    "![Quantum Teleportation Circuit](teleportation-circuit.png)\n",
    "\n",
    "\n",
    "I will define a quantum circuit that has 3 qubits, divided into two quantum registers:\n",
    "* `alice` - a two-qubit register, the first being the qubit she wants to teleport and the second being her half of the entangled pair\n",
    "* `bob` - a one-qubit register that initially has Bob's half of the entangled pair. The state of Alice's qubit will be teleported to this qubit.\n",
    "\n",
    "And three classical bits to hold the measurement:\n",
    "* `c0` - holds the measurement of `alice[0]`\n",
    "* `c1` - holds the measurement of `alice[1]`\n",
    "* `c2` - holds the measurement of `bob` for when we do qubit state tomography later."
   ]
  },
  {
   "cell_type": "code",
   "execution_count": 2,
   "id": "4b918751",
   "metadata": {},
   "outputs": [],
   "source": [
    "alice = QuantumRegister(2,name='alice')\n",
    "bob = QuantumRegister(1,name='bob')\n",
    "c0 = ClassicalRegister(1,name='c0')\n",
    "c1 = ClassicalRegister(1,name='c1')\n",
    "\n",
    "c2 = ClassicalRegister(1,name='c2')"
   ]
  },
  {
   "cell_type": "markdown",
   "id": "d7d21300",
   "metadata": {},
   "source": [
    "I'll divide each step of the protocol into different functions:"
   ]
  },
  {
   "cell_type": "code",
   "execution_count": 3,
   "id": "ac4d3e25",
   "metadata": {},
   "outputs": [],
   "source": [
    "# Generate entanglement\n",
    "def makeBellState(qc, alice, bob):\n",
    "    qc.h(alice[1])\n",
    "    qc.cx(alice[1],bob)\n",
    "\n",
    "# Alice's Gates\n",
    "def aliceGates(qc, alice):\n",
    "    qc.cx(alice[0], alice[1])\n",
    "    qc.h(alice[0])\n",
    "\n",
    "# Alice's Measurements\n",
    "def aliceMeas(qc, alice, c0, c1):\n",
    "    qc.measure(alice[0], c0)\n",
    "    qc.measure(alice[1], c1)\n",
    "\n",
    "# Bob's corrective gates\n",
    "def bobGates(qc, bob, c0, c1):\n",
    "    qc.x(bob).c_if(c1,1)\n",
    "    qc.z(bob).c_if(c0,1)\n",
    "    "
   ]
  },
  {
   "cell_type": "markdown",
   "id": "8fc1afe3",
   "metadata": {},
   "source": [
    "The following function will initialize `alice[0]` to the single qubit state vector passed through `init` and then create the teleportation circuit."
   ]
  },
  {
   "cell_type": "code",
   "execution_count": 4,
   "id": "83cabd5f",
   "metadata": {},
   "outputs": [],
   "source": [
    "def simTeleport(qc, alice, bob, c0, c1, c2, init):\n",
    "    makeBellState(qc, alice, bob)\n",
    "    qc.barrier()\n",
    "    \n",
    "    init_gate = Initialize( init )\n",
    "    qc.append(init_gate,[alice[0]])\n",
    "    qc.barrier()\n",
    "    \n",
    "    aliceGates(qc, alice)\n",
    "    qc.barrier()\n",
    "    \n",
    "    aliceMeas(qc, alice, c0,c1)\n",
    "    qc.barrier()\n",
    "    \n",
    "    bobGates(qc, bob, c0,c1)\n",
    "    qc.barrier()"
   ]
  },
  {
   "cell_type": "code",
   "execution_count": 5,
   "id": "3cbcad6e",
   "metadata": {},
   "outputs": [
    {
     "data": {
      "image/png": "[encoded data removed]",
      "text/plain": [
       "<Figure size 1025.22x385.28 with 1 Axes>"
      ]
     },
     "execution_count": 5,
     "metadata": {},
     "output_type": "execute_result"
    }
   ],
   "source": [
    "# Set psi to any unit-norm 2-d vector to pass as the initial qubit state to be teleported\n",
    "psi = [np.sqrt(0.5), -np.sqrt(0.5)*1j] # setting |psi> = (|0> - i|1>) / sqrt(2)\n",
    "qc = QuantumCircuit(alice,bob, c0,c1, c2)\n",
    "simTeleport(qc, alice, bob, c0, c1, c2, psi)\n",
    "qc.draw()"
   ]
  },
  {
   "cell_type": "markdown",
   "id": "383b26e0",
   "metadata": {},
   "source": [
    "Now, testing this circuit on the Statevector Simulator to see that the state is indeed being copied.\n",
    "\n",
    "The statevector simulator calculates the statevector of **every qubit** in the circuit in exactly one run. \n",
    "At the end of the run, the state of the system should be \n",
    "$$ |c_0\\rangle\\otimes|c_1\\rangle\\otimes|\\psi\\rangle$$\n",
    "which will be one of four different statevectors depending on the measured `c0` and `c1`.\n"
   ]
  },
  {
   "cell_type": "code",
   "execution_count": 6,
   "id": "9f03edec",
   "metadata": {},
   "outputs": [
    {
     "data": {
      "text/latex": [
       "$$\n",
       "|\\psi\\rangle = \n",
       "\\begin{bmatrix}\n",
       "\\tfrac{1}{\\sqrt{2}} & -\\tfrac{1}{\\sqrt{2}}i  \\\\\n",
       " \\end{bmatrix}\n",
       "$$"
      ],
      "text/plain": [
       "<IPython.core.display.Latex object>"
      ]
     },
     "metadata": {},
     "output_type": "display_data"
    },
    {
     "data": {
      "text/latex": [
       "$$\n",
       "\\text{Final State} = \n",
       "\\begin{bmatrix}\n",
       "0 & 0 & 0 & \\tfrac{1}{\\sqrt{2}} & 0 & 0 & 0 & -\\tfrac{1}{\\sqrt{2}}i  \\\\\n",
       " \\end{bmatrix}\n",
       "$$"
      ],
      "text/plain": [
       "<IPython.core.display.Latex object>"
      ]
     },
     "metadata": {},
     "output_type": "display_data"
    },
    {
     "name": "stdout",
     "output_type": "stream",
     "text": [
      "\n",
      "c0 = 1 ,\tc1 = 1\n"
     ]
    },
    {
     "data": {
      "text/latex": [
       "$$\n",
       "\\text{Expected Final State}=\n",
       "\\begin{bmatrix}\n",
       "0 & 0 & 0 & \\tfrac{1}{\\sqrt{2}} & 0 & 0 & 0 & -\\tfrac{1}{\\sqrt{2}}i  \\\\\n",
       " \\end{bmatrix}\n",
       "$$"
      ],
      "text/plain": [
       "<IPython.core.display.Latex object>"
      ]
     },
     "metadata": {},
     "output_type": "display_data"
    },
    {
     "name": "stdout",
     "output_type": "stream",
     "text": [
      "The state was successfully teleported\n"
     ]
    }
   ],
   "source": [
    "t_qc = transpile(qc, statevector_sim)\n",
    "result = execute(t_qc, statevector_sim).result()\n",
    "final_state = result.get_statevector()\n",
    "counts = result.get_counts()\n",
    "\n",
    "display(array_to_latex(np.array(psi), prefix=r'|\\psi\\rangle = '))\n",
    "display(array_to_latex(final_state, prefix=r'\\text{Final State} = '))\n",
    "print('')\n",
    "\n",
    "meas = list(counts.keys())[0]\n",
    "_c0 = int(meas[-1])\n",
    "_c1 = int(meas[-3])\n",
    "\n",
    "print('c0 =',_c0, ',\\tc1 =',_c1)\n",
    "\n",
    "# Verify that the state was copied\n",
    "q1q0 = np.kron( [1.0 if _c1==0 else 0.0, 1.0 if _c1==1 else 0.0 ], [1.0 if _c0==0 else 0.0, 1.0 if _c0==1 else 0.0 ] )\n",
    "\n",
    "display(array_to_latex(np.kron(np.array(psi),q1q0), prefix=r'\\text{Expected Final State}='))\n",
    "state_copied = np.linalg.norm(np.array(final_state) - np.kron(psi, q1q0)) < 1e-3\n",
    "\n",
    "if state_copied:\n",
    "    print('The state was successfully teleported')\n",
    "else:\n",
    "    print('The state was not teleported')"
   ]
  },
  {
   "cell_type": "markdown",
   "id": "5dff9682",
   "metadata": {},
   "source": [
    "# Running on actual Quantum Computers\n",
    "\n",
    "Unfortunately, IBM's quantum computers don't support clasically controlled operations as of yet. We can't use the above circuit to do teleportation. We can however make use of the _principle of deferred measurement_ to emulate the teleportation protocol.\n",
    "\n",
    "The principle says that we can replace the measurement followed by a classically controlled gate with a quantum controlled gate followed by a measurement without affecting the computation.\n",
    "\n",
    "Making use of this, we alter the protocol steps:"
   ]
  },
  {
   "cell_type": "code",
   "execution_count": 7,
   "id": "b323932e",
   "metadata": {},
   "outputs": [
    {
     "data": {
      "image/png": "[encoded data removed]",
      "text/plain": [
       "<Figure size 543.616x385.28 with 1 Axes>"
      ]
     },
     "execution_count": 7,
     "metadata": {},
     "output_type": "execute_result"
    }
   ],
   "source": [
    "def deferredBob(qc, alice, bob, c0,c1):\n",
    "    qc.cx(alice[1],bob)\n",
    "    qc.cz(alice[0],bob)\n",
    "    \n",
    "    qc.measure(alice[0], c0)\n",
    "    qc.measure(alice[1], c1)\n",
    "\n",
    "def realTeleport(qc, alice, bob, c0, c1):\n",
    "    makeBellState(qc, alice, bob)\n",
    "    aliceGates(qc, alice)\n",
    "    deferredBob(qc, alice, bob, c0, c1)\n",
    "\n",
    "teleport_circ = QuantumCircuit(alice,bob, c0,c1,c2, name='Teleportation Circuit')\n",
    "realTeleport(teleport_circ, alice,bob, c0,c1)\n",
    "teleport_circ.draw()"
   ]
  },
  {
   "cell_type": "markdown",
   "id": "4b106013",
   "metadata": {},
   "source": [
    "Verifying that this circuit also \"teleports\" the qubit state to Bob"
   ]
  },
  {
   "cell_type": "code",
   "execution_count": 8,
   "id": "29b0352a",
   "metadata": {},
   "outputs": [
    {
     "data": {
      "text/latex": [
       "$$\n",
       "|\\psi\\rangle = \n",
       "\\begin{bmatrix}\n",
       "\\tfrac{1}{\\sqrt{2}} & -\\tfrac{1}{\\sqrt{2}}i  \\\\\n",
       " \\end{bmatrix}\n",
       "$$"
      ],
      "text/plain": [
       "<IPython.core.display.Latex object>"
      ]
     },
     "metadata": {},
     "output_type": "display_data"
    },
    {
     "data": {
      "text/latex": [
       "$$\n",
       "\\text{Final State} = \n",
       "\\begin{bmatrix}\n",
       "0 & \\tfrac{1}{\\sqrt{2}} & 0 & 0 & 0 & -\\tfrac{1}{\\sqrt{2}}i & 0 & 0  \\\\\n",
       " \\end{bmatrix}\n",
       "$$"
      ],
      "text/plain": [
       "<IPython.core.display.Latex object>"
      ]
     },
     "metadata": {},
     "output_type": "display_data"
    },
    {
     "name": "stdout",
     "output_type": "stream",
     "text": [
      "\n",
      "c0 = 1 ,\tc1 = 0\n"
     ]
    },
    {
     "data": {
      "text/latex": [
       "$$\n",
       "\\text{Expected Final State}=\n",
       "\\begin{bmatrix}\n",
       "0 & \\tfrac{1}{\\sqrt{2}} & 0 & 0 & 0 & -\\tfrac{1}{\\sqrt{2}}i & 0 & 0  \\\\\n",
       " \\end{bmatrix}\n",
       "$$"
      ],
      "text/plain": [
       "<IPython.core.display.Latex object>"
      ]
     },
     "metadata": {},
     "output_type": "display_data"
    },
    {
     "name": "stdout",
     "output_type": "stream",
     "text": [
      "The state was successfully teleported\n"
     ]
    }
   ],
   "source": [
    "qc = QuantumCircuit(alice,bob, c0,c1,c2)\n",
    "qc.append(Initialize(psi),[alice[0]])\n",
    "qc.append(teleport_circ, [alice[0],alice[1],bob], [c0,c1,c2])\n",
    "\n",
    "t_qc = transpile(qc, statevector_sim)\n",
    "result = execute(t_qc, statevector_sim).result()\n",
    "final_state = result.get_statevector()\n",
    "counts = result.get_counts()\n",
    "\n",
    "display(array_to_latex(np.array(psi), prefix=r'|\\psi\\rangle = '))\n",
    "display(array_to_latex(final_state, prefix=r'\\text{Final State} = '))\n",
    "print('')\n",
    "\n",
    "meas = list(counts.keys())[0]\n",
    "_c0 = int(meas[-1])\n",
    "_c1 = int(meas[-3])\n",
    "\n",
    "print('c0 =',_c0, ',\\tc1 =',_c1)\n",
    "\n",
    "# Verify that the state was copied\n",
    "q1q0 = np.kron( [1.0 if _c1==0 else 0.0, 1.0 if _c1==1 else 0.0 ], [1.0 if _c0==0 else 0.0, 1.0 if _c0==1 else 0.0 ] )\n",
    "\n",
    "display(array_to_latex(np.kron(np.array(psi),q1q0), prefix=r'\\text{Expected Final State}='))\n",
    "state_copied = np.linalg.norm(np.array(final_state) - np.kron(psi, q1q0)) < 1e-3\n",
    "\n",
    "if state_copied:\n",
    "    print('The state was successfully teleported')\n",
    "else:\n",
    "    print('The state was not teleported')"
   ]
  },
  {
   "cell_type": "markdown",
   "id": "9e8d2568",
   "metadata": {},
   "source": [
    "# Quantum State Tomography\n",
    "Using the statevector simulator, we are able to verify that the circuit works properly in a noiseless environment. However, on actual quantum hardware, we are unable to observe the state of the system. So, to try and verify the state of Bob's qubit at the end of the protocol, I will use quantum state tomography.\n",
    "\n",
    "We will run multiple runs of the protocol and measure Bob's qubit in the X, Y and Z bases. Taking the mean of the measured eigenvalues for each of these measurements gives us $(\\bar{n}_x, \\bar{n}_y, \\bar{n}_z)$, a Bloch vector corresponding to the density matrix\n",
    "$$ \\rho = \\frac{1}{2} (I + \\bar{n}_x X + \\bar{n}_y Y + \\bar{n}_z Z ) $$\n",
    "\n",
    "In a noiseless environment, the measured Bloch vector tends to the Bloch vector of the initial state $|\\psi\\rangle$ as we increase the number of measurements we take. With noise present, as on an actual quantum computer, there will be fluctuations in the measurement statistics. The density matrix will correspond to a mixed state and we can use it to calculate the fidelity of Bob's qubit state compared to $|\\psi\\rangle$ when running the protocol on the hardare.\n",
    "$$ F = \\sqrt{\\langle\\psi|\\rho|\\psi\\rangle} $$"
   ]
  },
  {
   "cell_type": "code",
   "execution_count": 9,
   "id": "34740a45",
   "metadata": {},
   "outputs": [],
   "source": [
    "# Circuits to measure in the X, Y and Z bases\n",
    "def x_meas(qc, q, c):\n",
    "    qc.h(q)\n",
    "    qc.measure(q,c)\n",
    "\n",
    "def y_meas(qc, q, c):\n",
    "    qc.sdg(q)\n",
    "    qc.h(q)\n",
    "    qc.measure(q,c)\n",
    "\n",
    "def z_meas(qc, q, c):\n",
    "    qc.measure(q, c)\n",
    "\n",
    "# Given an initial state, a circuit that generates the initial state and the teleportation circuit\n",
    "# return the circuits to obtain the X,Y and Z measurements for tomography\n",
    "def getCircuits(init_state, init_circ, teleport_circ):\n",
    "    x_circ = QuantumCircuit(alice,bob, c0,c1,c2)\n",
    "    \n",
    "    if init_circ == None:\n",
    "        init_circ = Initialize(init_state)\n",
    "    \n",
    "    x_circ.append(init_circ, [alice[0]])\n",
    "    x_circ.append(teleport_circ, [alice[0],alice[1],bob],[c0,c1,c2])\n",
    "    \n",
    "    y_circ = x_circ.copy()\n",
    "    z_circ = x_circ.copy()\n",
    "    \n",
    "    x_meas(x_circ, bob, c2)\n",
    "    y_meas(y_circ, bob, c2)\n",
    "    z_meas(z_circ, bob, c2)\n",
    "    \n",
    "    return x_circ,y_circ,z_circ\n",
    "\n",
    "# Run the jobs on the backend\n",
    "def runJobs(teleport_circ, init_state, init_circ, backend, num_shots, optimization_level):\n",
    "    x_circ, y_circ, z_circ = getCircuits(init_state, init_circ, teleport_circ)\n",
    "    \n",
    "    t_xc = transpile(x_circ, backend, optimization_level=optimization_level)\n",
    "    t_yc = transpile(y_circ, backend, optimization_level=optimization_level)\n",
    "    t_zc = transpile(z_circ, backend, optimization_level=optimization_level)\n",
    "    \n",
    "    xResult = backend.run(t_xc, shots=num_shots).result()\n",
    "    yResult = backend.run(t_yc, shots=num_shots).result()\n",
    "    zResult = backend.run(t_zc, shots=num_shots).result()\n",
    "    \n",
    "    return xResult, yResult, zResult\n",
    "\n",
    "# Calculate the Bloch vector coordinate from the measurement statistics\n",
    "def calcExpectation(counts):\n",
    "    mean = 0\n",
    "    num_shots = 0\n",
    "    for k in counts.keys():\n",
    "        if k[0] == '0':\n",
    "            mean += counts[k]\n",
    "            num_shots += counts[k]\n",
    "        else:\n",
    "            mean -= counts[k]\n",
    "            num_shots += counts[k]\n",
    "    mean /= num_shots\n",
    "    return mean\n",
    "\n",
    "def stateToBloch(init):\n",
    "    psi = np.array(init, dtype=complex)\n",
    "    theta = np.arccos(psi[0])\n",
    "    phase = psi[1]/np.sin(theta)\n",
    "    \n",
    "    theta = theta * 2.0\n",
    "    phi = np.real(-1.0j * np.log(phase))\n",
    "    \n",
    "    return np.array([np.sin(theta)*np.cos(phi), np.sin(theta)*np.sin(phi), np.cos(theta)])\n",
    "\n",
    "# The Pauli Matrices\n",
    "sigma_x = np.array([[0.0, 1.0],   [1.0, 0.0]], dtype=complex)\n",
    "sigma_y = np.array([[0.0, -1.0j], [1.0j, 0.0]], dtype=complex)\n",
    "sigma_z = np.array([[1.0, 0.0],   [0.0, -1.0]], dtype=complex)\n",
    "\n",
    "# Display the density matrix and calculate the fidelity\n",
    "def fidelity(x,y,z, init_state):\n",
    "    psi = np.array([ [init_state[0]], [init_state[1]] ], dtype=complex)\n",
    "    rho = 0.5*(np.identity(2) + x*sigma_x + y*sigma_y + z*sigma_z)\n",
    "    \n",
    "    f = np.real(np.sqrt(psi.transpose().conj() @ rho @ psi))[0][0]\n",
    "    \n",
    "    return f, rho\n",
    "\n",
    "# Analyze the results of the job\n",
    "def analyzeResults(xResult, yResult, zResult, init_state, print_flag=True):\n",
    "    x_counts = xResult.get_counts()\n",
    "    y_counts = yResult.get_counts()\n",
    "    z_counts = zResult.get_counts()\n",
    "    \n",
    "    mean_x = calcExpectation(x_counts)\n",
    "    mean_y = calcExpectation(y_counts)\n",
    "    mean_z = calcExpectation(z_counts)\n",
    "    ex = np.array([mean_x, mean_y, mean_z])\n",
    "    bloch = stateToBloch(init_state)\n",
    "    angle = np.arccos(np.real(np.dot(ex, bloch)/np.linalg.norm(ex)))\n",
    "    f,rho = fidelity(mean_x, mean_y, mean_z, init_state)\n",
    "    \n",
    "    if print_flag:\n",
    "        display(array_to_latex(init_state, prefix=r'|\\psi\\rangle = '))\n",
    "        display(array_to_latex(bloch, prefix=r'\\text{Bloch vector of } |\\psi\\rangle = '))\n",
    "\n",
    "        print('Expectation of X measurements:', mean_x)\n",
    "        print('Expectation of Y measurements:', mean_y)\n",
    "        print('Expectation of Z measurements:', mean_z)\n",
    "        display(array_to_latex(rho, prefix=r\"\\rho = \"))\n",
    "\n",
    "        print(r'Angle between Bloch vector of |psi> and rho =', angle, 'radians')\n",
    "\n",
    "        print(\"Fideility =\", f)\n",
    "    \n",
    "    analysis = {\n",
    "        'init_state': init_state,\n",
    "        'mean_x': mean_x,\n",
    "        'mean_y': mean_y,\n",
    "        'mean_z': mean_z,\n",
    "        'angle': angle,\n",
    "        'fidelity': f,\n",
    "    }\n",
    "    \n",
    "    return analysis\n",
    "    "
   ]
  },
  {
   "cell_type": "code",
   "execution_count": 10,
   "id": "d69dd799-23c0-474e-8a79-65bed5b80357",
   "metadata": {},
   "outputs": [
    {
     "data": {
      "application/vnd.jupyter.widget-view+json": {
       "model_id": "8f13a54ee45249f8bddb97bcf3bc6b73",
       "version_major": 2,
       "version_minor": 0
      },
      "text/plain": [
       "VBox(children=(HTML(value=\"<h1 style='color:#ffffff;background-color:#000000;padding-top: 1%;padding-bottom: 1…"
      ]
     },
     "metadata": {},
     "output_type": "display_data"
    },
    {
     "data": {
      "text/plain": [
       "<IBMQBackend('ibmqx2') from IBMQ(hub='ibm-q', group='open', project='main')>"
      ]
     },
     "execution_count": 10,
     "metadata": {},
     "output_type": "execute_result"
    }
   ],
   "source": [
    "backend = provider.get_backend('ibmq_5_yorktown')\n",
    "backend"
   ]
  },
  {
   "cell_type": "markdown",
   "id": "74a4b03f-15da-4353-a3e2-898208a6e200",
   "metadata": {},
   "source": [
    "# Running the Protocol on Different Input States\n",
    "\n",
    "First I'll run the protocol on a random qubit state testing the fidelity at all of the optimization levels on the backend (0-3). \n",
    "\n",
    "## Random Qubit State\n",
    "Any single-qubit state can be parameterized by parameterized by two angles $0\\leq \\theta \\leq \\pi$ and $0 \\leq \\varphi < 2\\pi$:\n",
    "$$ |\\psi\\rangle = \\cos\\frac{\\theta}{2} |0\\rangle + e^{i\\varphi}\\sin\\frac{\\theta}{2}|1\\rangle $$"
   ]
  },
  {
   "cell_type": "code",
   "execution_count": 11,
   "id": "3086dac5-30ee-4c4b-95fe-3db6518ab838",
   "metadata": {},
   "outputs": [],
   "source": [
    "def getRandomState():\n",
    "    theta = np.random.uniform(0,np.pi)\n",
    "    phi = np.random.uniform(0,2.0*np.pi)\n",
    "    state = np.array([ np.cos(theta/2.0), np.exp(phi*1.0j) * np.sin(theta/2.0) ])\n",
    "    return state\n",
    "\n",
    "init_state = getRandomState()\n",
    "init_circ = None"
   ]
  },
  {
   "cell_type": "markdown",
   "id": "7b74bb35-f7e1-47a9-90aa-c90e8d88df97",
   "metadata": {
    "tags": []
   },
   "source": [
    "## Testing the Fidelity at different optimization levels"
   ]
  },
  {
   "cell_type": "code",
   "execution_count": 12,
   "id": "ba54da75-01a9-4939-b005-6e4546ad56f6",
   "metadata": {},
   "outputs": [],
   "source": [
    "# Store the analysis data of the jobs in these arrays\n",
    "analyses_0 = []\n",
    "analyses_1 = []\n",
    "analyses_2 = []\n",
    "analyses_3 = []"
   ]
  },
  {
   "cell_type": "code",
   "execution_count": 28,
   "id": "a2dbef27-4fdb-4710-9eff-f2a62a8e3899",
   "metadata": {},
   "outputs": [
    {
     "data": {
      "text/latex": [
       "$$\n",
       "|\\psi\\rangle = \n",
       "\\begin{bmatrix}\n",
       "0.9966 & 0.00697 + 0.08206i  \\\\\n",
       " \\end{bmatrix}\n",
       "$$"
      ],
      "text/plain": [
       "<IPython.core.display.Latex object>"
      ]
     },
     "metadata": {},
     "output_type": "display_data"
    },
    {
     "data": {
      "text/latex": [
       "$$\n",
       "\\text{Bloch vector of } |\\psi\\rangle = \n",
       "\\begin{bmatrix}\n",
       "0.01389 & 0.16355 & 0.98644  \\\\\n",
       " \\end{bmatrix}\n",
       "$$"
      ],
      "text/plain": [
       "<IPython.core.display.Latex object>"
      ]
     },
     "metadata": {},
     "output_type": "display_data"
    },
    {
     "name": "stdout",
     "output_type": "stream",
     "text": [
      "Expectation of X measurements: 0.01416015625\n",
      "Expectation of Y measurements: 0.084228515625\n",
      "Expectation of Z measurements: 0.60205078125\n"
     ]
    },
    {
     "data": {
      "text/latex": [
       "$$\n",
       "\\rho = \n",
       "\\begin{bmatrix}\n",
       "0.80103 & 0.00708 - 0.04211i  \\\\\n",
       " 0.00708 + 0.04211i & 0.19897  \\\\\n",
       " \\end{bmatrix}\n",
       "$$"
      ],
      "text/plain": [
       "<IPython.core.display.Latex object>"
      ]
     },
     "metadata": {},
     "output_type": "display_data"
    },
    {
     "name": "stdout",
     "output_type": "stream",
     "text": [
      "Angle between Bloch vector of |psi> and rho = 0.026992808381347964 radians\n",
      "Fideility = 0.8966207414355939\n"
     ]
    }
   ],
   "source": [
    "xResult, yResult, zResult = runJobs(teleport_circ, init_state, init_circ, backend, backend.configuration().max_shots, 0)\n",
    "analyses_0.append(analyzeResults(xResult, yResult, zResult, init_state))"
   ]
  },
  {
   "cell_type": "code",
   "execution_count": 29,
   "id": "f60fcb77-9104-4123-90c8-12a31ce9a29a",
   "metadata": {},
   "outputs": [
    {
     "data": {
      "text/latex": [
       "$$\n",
       "|\\psi\\rangle = \n",
       "\\begin{bmatrix}\n",
       "0.9966 & 0.00697 + 0.08206i  \\\\\n",
       " \\end{bmatrix}\n",
       "$$"
      ],
      "text/plain": [
       "<IPython.core.display.Latex object>"
      ]
     },
     "metadata": {},
     "output_type": "display_data"
    },
    {
     "data": {
      "text/latex": [
       "$$\n",
       "\\text{Bloch vector of } |\\psi\\rangle = \n",
       "\\begin{bmatrix}\n",
       "0.01389 & 0.16355 & 0.98644  \\\\\n",
       " \\end{bmatrix}\n",
       "$$"
      ],
      "text/plain": [
       "<IPython.core.display.Latex object>"
      ]
     },
     "metadata": {},
     "output_type": "display_data"
    },
    {
     "name": "stdout",
     "output_type": "stream",
     "text": [
      "Expectation of X measurements: -0.074462890625\n",
      "Expectation of Y measurements: 0.1943359375\n",
      "Expectation of Z measurements: 0.728515625\n"
     ]
    },
    {
     "data": {
      "text/latex": [
       "$$\n",
       "\\rho = \n",
       "\\begin{bmatrix}\n",
       "0.86426 & -0.03723 - 0.09717i  \\\\\n",
       " -0.03723 + 0.09717i & 0.13574  \\\\\n",
       " \\end{bmatrix}\n",
       "$$"
      ],
      "text/plain": [
       "<IPython.core.display.Latex object>"
      ]
     },
     "metadata": {},
     "output_type": "display_data"
    },
    {
     "name": "stdout",
     "output_type": "stream",
     "text": [
      "Angle between Bloch vector of |psi> and rho = 0.14791680036445579 radians\n",
      "Fideility = 0.9352499442607628\n"
     ]
    }
   ],
   "source": [
    "xResult, yResult, zResult = runJobs(teleport_circ, init_state, init_circ, backend, backend.configuration().max_shots, 1)\n",
    "analyses_1.append(analyzeResults(xResult, yResult, zResult, init_state))"
   ]
  },
  {
   "cell_type": "code",
   "execution_count": 30,
   "id": "70f7a560-fe20-4fa7-a319-223beaae24a5",
   "metadata": {},
   "outputs": [
    {
     "data": {
      "text/latex": [
       "$$\n",
       "|\\psi\\rangle = \n",
       "\\begin{bmatrix}\n",
       "0.9966 & 0.00697 + 0.08206i  \\\\\n",
       " \\end{bmatrix}\n",
       "$$"
      ],
      "text/plain": [
       "<IPython.core.display.Latex object>"
      ]
     },
     "metadata": {},
     "output_type": "display_data"
    },
    {
     "data": {
      "text/latex": [
       "$$\n",
       "\\text{Bloch vector of } |\\psi\\rangle = \n",
       "\\begin{bmatrix}\n",
       "0.01389 & 0.16355 & 0.98644  \\\\\n",
       " \\end{bmatrix}\n",
       "$$"
      ],
      "text/plain": [
       "<IPython.core.display.Latex object>"
      ]
     },
     "metadata": {},
     "output_type": "display_data"
    },
    {
     "name": "stdout",
     "output_type": "stream",
     "text": [
      "Expectation of X measurements: -0.106689453125\n",
      "Expectation of Y measurements: 0.203857421875\n",
      "Expectation of Z measurements: 0.732421875\n"
     ]
    },
    {
     "data": {
      "text/latex": [
       "$$\n",
       "\\rho = \n",
       "\\begin{bmatrix}\n",
       "0.86621 & -0.05334 - 0.10193i  \\\\\n",
       " -0.05334 + 0.10193i & 0.13379  \\\\\n",
       " \\end{bmatrix}\n",
       "$$"
      ],
      "text/plain": [
       "<IPython.core.display.Latex object>"
      ]
     },
     "metadata": {},
     "output_type": "display_data"
    },
    {
     "name": "stdout",
     "output_type": "stream",
     "text": [
      "Angle between Bloch vector of |psi> and rho = 0.18686266299670415 radians\n",
      "Fideility = 0.9365756704615776\n"
     ]
    }
   ],
   "source": [
    "xResult, yResult, zResult = runJobs(teleport_circ, init_state, init_circ, backend, backend.configuration().max_shots, 2)\n",
    "analyses_2.append(analyzeResults(xResult, yResult, zResult, init_state))"
   ]
  },
  {
   "cell_type": "code",
   "execution_count": 31,
   "id": "4308a278-d22e-431e-868a-a30555ac133e",
   "metadata": {},
   "outputs": [
    {
     "data": {
      "text/latex": [
       "$$\n",
       "|\\psi\\rangle = \n",
       "\\begin{bmatrix}\n",
       "0.9966 & 0.00697 + 0.08206i  \\\\\n",
       " \\end{bmatrix}\n",
       "$$"
      ],
      "text/plain": [
       "<IPython.core.display.Latex object>"
      ]
     },
     "metadata": {},
     "output_type": "display_data"
    },
    {
     "data": {
      "text/latex": [
       "$$\n",
       "\\text{Bloch vector of } |\\psi\\rangle = \n",
       "\\begin{bmatrix}\n",
       "0.01389 & 0.16355 & 0.98644  \\\\\n",
       " \\end{bmatrix}\n",
       "$$"
      ],
      "text/plain": [
       "<IPython.core.display.Latex object>"
      ]
     },
     "metadata": {},
     "output_type": "display_data"
    },
    {
     "name": "stdout",
     "output_type": "stream",
     "text": [
      "Expectation of X measurements: -0.116943359375\n",
      "Expectation of Y measurements: 0.1728515625\n",
      "Expectation of Z measurements: 0.748046875\n"
     ]
    },
    {
     "data": {
      "text/latex": [
       "$$\n",
       "\\rho = \n",
       "\\begin{bmatrix}\n",
       "0.87402 & -0.05847 - 0.08643i  \\\\\n",
       " -0.05847 + 0.08643i & 0.12598  \\\\\n",
       " \\end{bmatrix}\n",
       "$$"
      ],
      "text/plain": [
       "<IPython.core.display.Latex object>"
      ]
     },
     "metadata": {},
     "output_type": "display_data"
    },
    {
     "name": "stdout",
     "output_type": "stream",
     "text": [
      "Angle between Bloch vector of |psi> and rho = 0.17650034497608383 radians\n",
      "Fideility = 0.9392943009319036\n"
     ]
    }
   ],
   "source": [
    "xResult, yResult, zResult = runJobs(teleport_circ, init_state, init_circ, backend, backend.configuration().max_shots, 3)\n",
    "analyses_3.append(analyzeResults(xResult, yResult, zResult, init_state))"
   ]
  },
  {
   "cell_type": "code",
   "execution_count": 15,
   "id": "7c8c92cd-f18c-455e-9cfe-83b6152beca3",
   "metadata": {},
   "outputs": [],
   "source": [
    "# Write to csv files\n",
    "import csv"
   ]
  },
  {
   "cell_type": "markdown",
   "id": "9c33c7a5-9468-4a82-ac3b-eeeaf9034cac",
   "metadata": {},
   "source": [
    "Now I'll run multiple analyses at different optimization levels choosing a new random state each time to see which optimization level gives the highest average fidelity over multiple states"
   ]
  },
  {
   "cell_type": "code",
   "execution_count": 34,
   "id": "89372696-ac0e-4150-a1d9-493663d0036f",
   "metadata": {},
   "outputs": [],
   "source": [
    "num_trials = 50\n",
    "num_shots = 1000\n",
    "for i in range(num_trials):\n",
    "    init_state = getRandomState()\n",
    "    \n",
    "    xResult, yResult, zResult = runJobs(teleport_circ, init_state, init_circ, backend, num_shots, 0)\n",
    "    analyses_0.append(analyzeResults(xResult, yResult, zResult, init_state, False))\n",
    "    \n",
    "    xResult, yResult, zResult = runJobs(teleport_circ, init_state, init_circ, backend, num_shots, 1)\n",
    "    analyses_1.append(analyzeResults(xResult, yResult, zResult, init_state, False))\n",
    "    \n",
    "    xResult, yResult, zResult = runJobs(teleport_circ, init_state, init_circ, backend, num_shots, 2)\n",
    "    analyses_2.append(analyzeResults(xResult, yResult, zResult, init_state, False))\n",
    "    \n",
    "    xResult, yResult, zResult = runJobs(teleport_circ, init_state, init_circ, backend, num_shots, 3)\n",
    "    analyses_3.append(analyzeResults(xResult, yResult, zResult, init_state, False))\n",
    "\n",
    "with open('opt_jobs_0.csv','w',newline='') as file0:\n",
    "    dict_writer = csv.DictWriter(file0, keys)\n",
    "    dict_writer.writeheader()\n",
    "    dict_writer.writerows(analyses_0)\n",
    "    \n",
    "with open('opt_jobs_1.csv','w',newline='') as file1:\n",
    "    dict_writer = csv.DictWriter(file1, keys)\n",
    "    dict_writer.writeheader()\n",
    "    dict_writer.writerows(analyses_1)\n",
    "    \n",
    "with open('opt_jobs_2.csv','w',newline='') as file2:\n",
    "    dict_writer = csv.DictWriter(file2, keys)\n",
    "    dict_writer.writeheader()\n",
    "    dict_writer.writerows(analyses_2)\n",
    "    \n",
    "with open('opt_jobs_3.csv','w',newline='') as file3:\n",
    "    dict_writer = csv.DictWriter(file3, keys)\n",
    "    dict_writer.writeheader()\n",
    "    dict_writer.writerows(analyses_3)"
   ]
  },
  {
   "cell_type": "code",
   "execution_count": 16,
   "id": "b2e3b095-5ef5-4bb5-b3cd-3e8e39574bbb",
   "metadata": {},
   "outputs": [
    {
     "data": {
      "image/png": "[encoded data removed]",
      "text/plain": [
       "<Figure size 432x288 with 1 Axes>"
      ]
     },
     "metadata": {
      "needs_background": "light"
     },
     "output_type": "display_data"
    }
   ],
   "source": [
    "with open('opt_jobs_0.csv') as f:\n",
    "    fid_0 = np.array([float(row['fidelity']) for row in csv.DictReader(f)])\n",
    "\n",
    "with open('opt_jobs_1.csv') as f:\n",
    "    fid_1 = np.array([float(row['fidelity']) for row in csv.DictReader(f)])\n",
    "    \n",
    "with open('opt_jobs_2.csv') as f:\n",
    "    fid_2 = np.array([float(row['fidelity']) for row in csv.DictReader(f)])\n",
    "    \n",
    "with open('opt_jobs_3.csv') as f:\n",
    "    fid_3 = np.array([float(row['fidelity']) for row in csv.DictReader(f)])\n",
    "\n",
    "means = [np.mean(fid_0), np.mean(fid_1), np.mean(fid_2), np.mean(fid_3)]\n",
    "std_devs = [np.std(fid_0), np.std(fid_1), np.std(fid_2), np.std(fid_3)]\n",
    "\n",
    "import matplotlib.pyplot as plt\n",
    "\n",
    "fig = plt.figure()\n",
    "#plt.title('Fidelity of Teleportation Protocol on ibmq_5_yorktown at Different Circuit Optimization Levels')\n",
    "plt.xlabel('Optimization Level')\n",
    "plt.ylabel('Fidelity')\n",
    "plt.ylim(0.7, 1.0)\n",
    "plt.xticks(range(4))\n",
    "\n",
    "x = [0,1,2,3]\n",
    "plt.errorbar(x,means,yerr=std_devs,marker='o')\n",
    "\n",
    "plt.savefig('fidelity-vs-optimization-level.png')\n",
    "\n",
    "fig.show()"
   ]
  }
 ],
 "metadata": {
  "kernelspec": {
   "display_name": "Qiskit v0.29.0",
   "language": "python",
   "name": "python3"
  },
  "language_info": {
   "codemirror_mode": {
    "name": "ipython",
    "version": 3
   },
   "file_extension": ".py",
   "mimetype": "text/x-python",
   "name": "python",
   "nbconvert_exporter": "python",
   "pygments_lexer": "ipython3",
   "version": "3.8.10"
  },
  "widgets": {
   "application/vnd.jupyter.widget-state+json": {
    "state": {
     "041201f406804c3fb202d4fc224ce422": {
      "model_module": "@jupyter-widgets/controls",
      "model_module_version": "1.5.0",
      "model_name": "DescriptionStyleModel",
      "state": {
       "description_width": ""
      }
     },
     "06e38d9bef364c97853100779fba744e": {
      "model_module": "@jupyter-widgets/controls",
      "model_module_version": "1.5.0",
      "model_name": "TabModel",
      "state": {
       "layout": "IPY_MODEL_268379b226e741a893dcee9fb8cf99e4"
      }
     },
     "08691c11d7af4928a6f411b1b16478cd": {
      "model_module": "@jupyter-widgets/controls",
      "model_module_version": "1.5.0",
      "model_name": "GridBoxModel",
      "state": {
       "children": [
        "IPY_MODEL_ad40ff2ed0a14e5aa458afe12327b95a",
        "IPY_MODEL_9edfe152a6ac424b943ca706e212e6cb",
        "IPY_MODEL_4123df3812704336bc86d1f2aa5a3e36"
       ],
       "layout": "IPY_MODEL_9557a8ab5095436f92907fa14984a4ea"
      }
     },
     "1038367c44f647cb8ec818342450f240": {
      "model_module": "@jupyter-widgets/base",
      "model_module_version": "1.2.0",
      "model_name": "LayoutModel",
      "state": {
       "grid_gap": "0px 0px",
       "grid_template_areas": "\n                                                   \"top top top\"\n                                                   \"left middle right\"\n                                                   ",
       "grid_template_columns": "33% 33% 33%",
       "grid_template_rows": "auto auto"
      }
     },
     "10697f3b83604ba5b477b0a2ff27eca3": {
      "model_module": "@jupyter-widgets/base",
      "model_module_version": "1.2.0",
      "model_name": "LayoutModel",
      "state": {
       "grid_area": "top"
      }
     },
     "1385a904d525458983cd76887cb00110": {
      "model_module": "@jupyter-widgets/controls",
      "model_module_version": "1.5.0",
      "model_name": "HTMLModel",
      "state": {
       "layout": "IPY_MODEL_10697f3b83604ba5b477b0a2ff27eca3",
       "style": "IPY_MODEL_4379da30b67e45c8a2c07cefedfbefa0",
       "value": "<div><font style='font-weight:bold'>last_update_date</font>: 2021-08-04 05:15:48+00:00</div>"
      }
     },
     "1559c1bee3f4470a9293e89fc299898c": {
      "model_module": "@jupyter-widgets/controls",
      "model_module_version": "1.5.0",
      "model_name": "ButtonModel",
      "state": {
       "button_style": "primary",
       "description": "Clear",
       "layout": "IPY_MODEL_5491955b5ce84a5eb6b7ef5bd70bed0d",
       "style": "IPY_MODEL_d65c7ed8e81e4e58bd0e0872c3e941c6"
      }
     },
     "16b6a6b6d89245b89babb18d3b1ba9f2": {
      "model_module": "@jupyter-widgets/controls",
      "model_module_version": "1.5.0",
      "model_name": "DescriptionStyleModel",
      "state": {
       "description_width": ""
      }
     },
     "17789b5e799644a0a9a20a7651381966": {
      "model_module": "@jupyter-widgets/base",
      "model_module_version": "1.2.0",
      "model_name": "LayoutModel",
      "state": {
       "margin": "0px 0px 10px 0px"
      }
     },
     "1b9f700debab4311b5624048eaa86686": {
      "model_module": "@jupyter-widgets/base",
      "model_module_version": "1.2.0",
      "model_name": "LayoutModel",
      "state": {}
     },
     "268379b226e741a893dcee9fb8cf99e4": {
      "model_module": "@jupyter-widgets/base",
      "model_module_version": "1.2.0",
      "model_name": "LayoutModel",
      "state": {
       "max_height": "620px"
      }
     },
     "26d838aff71f4b858e406975b5d9a291": {
      "model_module": "@jupyter-widgets/base",
      "model_module_version": "1.2.0",
      "model_name": "LayoutModel",
      "state": {
       "overflow_y": "scroll"
      }
     },
     "36a00da161404480aca761fa180236fa": {
      "model_module": "@jupyter-widgets/controls",
      "model_module_version": "1.5.0",
      "model_name": "HTMLModel",
      "state": {
       "layout": "IPY_MODEL_9723de35eef2423393e772a9851bc89a",
       "style": "IPY_MODEL_b8528135312c4eb28bb50daa2be92dca",
       "value": "<table><style>\ntable {\n    border-collapse: collapse;\n    width: auto;\n}\n\nth, td {\n    text-align: left;\n    padding: 8px;\n}\n\ntr:nth-child(even) {background-color: #f6f6f6;};\n</style><tr><th></th><th>Type</th><th>Gate error</th></tr><tr><td><font style='font-weight:bold'>cx3_2</font></td><td>cx</td><td>0.01488</td></tr><tr><td><font style='font-weight:bold'>cx2_3</font></td><td>cx</td><td>0.01488</td></tr><tr><td><font style='font-weight:bold'>cx1_2</font></td><td>cx</td><td>0.0205</td></tr><tr><td><font style='font-weight:bold'>cx2_1</font></td><td>cx</td><td>0.0205</td></tr></table>"
      }
     },
     "3a87604f4d8842a78f5a1c1bb63ccace": {
      "model_module": "@jupyter-widgets/controls",
      "model_module_version": "1.5.0",
      "model_name": "DescriptionStyleModel",
      "state": {
       "description_width": ""
      }
     },
     "3af82620f00a4367b633062e6e98c492": {
      "model_module": "@jupyter-widgets/controls",
      "model_module_version": "1.5.0",
      "model_name": "DescriptionStyleModel",
      "state": {
       "description_width": ""
      }
     },
     "3e0aa9dca62241ea9d4ef613a08a6cac": {
      "model_module": "@jupyter-widgets/base",
      "model_module_version": "1.2.0",
      "model_name": "LayoutModel",
      "state": {
       "grid_template_areas": "\n                                       \". . . . right \"\n                                        ",
       "grid_template_columns": "20% 20% 20% 20% 20%",
       "width": "100%"
      }
     },
     "4123df3812704336bc86d1f2aa5a3e36": {
      "model_module": "@jupyter-widgets/controls",
      "model_module_version": "1.5.0",
      "model_name": "HTMLMathModel",
      "state": {
       "layout": "IPY_MODEL_6c048fb7ec064e63ba1fb352b6c5484a",
       "style": "IPY_MODEL_e16a8a7e43b34d869acdbc9017453c71",
       "value": "<table><style>\ntable {\n    border-collapse: collapse;\n    width: auto;\n}\n\nth, td {\n    text-align: left;\n    padding: 8px;\n}\n\ntr:nth-child(even) {background-color: #f6f6f6;}\n</style><tr><th></th><th></th></tr><tr><td>meas_map</td><td>[[0, 1, 2, 3, 4]]</td></tr><tr><td>local</td><td>False</td></tr><tr><td>rep_delay_range</td><td>[0.0, 500.0]</td></tr><tr><td>dynamic_reprate_enabled</td><td>True</td></tr><tr><td>conditional</td><td>False</td></tr><tr><td>meas_levels</td><td>[1, 2]</td></tr><tr><td>n_uchannels</td><td>12</td></tr><tr><td>simulator</td><td>False</td></tr><tr><td>description</td><td>5 qubit device Yorktown</td></tr><tr><td>n_registers</td><td>1</td></tr><tr><td>memory</td><td>True</td></tr><tr><td>online_date</td><td>2017-01-24 05:00:00+00:00</td></tr><tr><td>pulse_num_qubits</td><td>3</td></tr><tr><td>sample_name</td><td>family: Canary, revision: 1</td></tr><tr><td>parametric_pulses</td><td>['gaussian', 'gaussian_square', 'drag', 'constant']</td></tr><tr><td>multi_meas_enabled</td><td>True</td></tr><tr><td>qubit_lo_range</td><td>[[4.782327129886342, 5.782327129886342], [4.747511589323445, 5.747511589323445], [4.533395405412837, 5.533395405412837], [4.7919678639168755, 5.7919678639168755], [4.578394747328107, 5.578394747328107]]</td></tr><tr><td>discriminators</td><td>['hw_centroid', 'quadratic_discriminator', 'linear_discriminator']</td></tr><tr><td>acquisition_latency</td><td>[]</td></tr><tr><td>dt</td><td>0.2222222222222222</td></tr><tr><td>rep_times</td><td>[1000.0]</td></tr><tr><td>hamiltonian</td><td>$$\\begin{align} \\mathcal{H}/\\hbar = & \\sum_{i=0}^{4}\\left(\\frac{\\omega_{q,i}}{2}(\\mathbb{I}-\\sigma_i^{z})+\\frac{\\Delta_{i}}{2}(O_i^2-O_i)+\\Omega_{d,i}D_i(t)\\sigma_i^{X}\\right) \\\\ & + J_{0,1}(\\sigma_{0}^{+}\\sigma_{1}^{-}+\\sigma_{0}^{-}\\sigma_{1}^{+}) + J_{2,4}(\\sigma_{2}^{+}\\sigma_{4}^{-}+\\sigma_{2}^{-}\\sigma_{4}^{+}) + J_{1,2}(\\sigma_{1}^{+}\\sigma_{2}^{-}+\\sigma_{1}^{-}\\sigma_{2}^{+}) + J_{3,4}(\\sigma_{3}^{+}\\sigma_{4}^{-}+\\sigma_{3}^{-}\\sigma_{4}^{+}) \\\\ & + J_{2,3}(\\sigma_{2}^{+}\\sigma_{3}^{-}+\\sigma_{2}^{-}\\sigma_{3}^{+}) + J_{0,2}(\\sigma_{0}^{+}\\sigma_{2}^{-}+\\sigma_{0}^{-}\\sigma_{2}^{+}) \\\\ & + \\Omega_{d,0}(U_{0}^{(0,1)}(t)+U_{1}^{(0,2)}(t))\\sigma_{0}^{X} + \\Omega_{d,1}(U_{3}^{(1,2)}(t)+U_{2}^{(1,0)}(t))\\sigma_{1}^{X} \\\\ & + \\Omega_{d,2}(U_{7}^{(2,4)}(t)+U_{4}^{(2,0)}(t)+U_{5}^{(2,1)}(t)+U_{6}^{(2,3)}(t))\\sigma_{2}^{X} + \\Omega_{d,3}(U_{8}^{(3,2)}(t)+U_{9}^{(3,4)}(t))\\sigma_{3}^{X} \\\\ & + \\Omega_{d,4}(U_{11}^{(4,3)}(t)+U_{10}^{(4,2)}(t))\\sigma_{4}^{X} \\\\ \\end{align}$$</td></tr><tr><td>conditional_latency</td><td>[]</td></tr><tr><td>url</td><td>None</td></tr><tr><td>channels</td><td>{'acquire0': {'operates': {'qubits': [0]}, 'purpose': 'acquire', 'type': 'acquire'}, 'acquire1': {'operates': {'qubits': [1]}, 'purpose': 'acquire', 'type': 'acquire'}, 'acquire2': {'operates': {'qubits': [2]}, 'purpose': 'acquire', 'type': 'acquire'}, 'acquire3': {'operates': {'qubits': [3]}, 'purpose': 'acquire', 'type': 'acquire'}, 'acquire4': {'operates': {'qubits': [4]}, 'purpose': 'acquire', 'type': 'acquire'}, 'd0': {'operates': {'qubits': [0]}, 'purpose': 'drive', 'type': 'drive'}, 'd1': {'operates': {'qubits': [1]}, 'purpose': 'drive', 'type': 'drive'}, 'd2': {'operates': {'qubits': [2]}, 'purpose': 'drive', 'type': 'drive'}, 'd3': {'operates': {'qubits': [3]}, 'purpose': 'drive', 'type': 'drive'}, 'd4': {'operates': {'qubits': [4]}, 'purpose': 'drive', 'type': 'drive'}, 'm0': {'operates': {'qubits': [0]}, 'purpose': 'measure', 'type': 'measure'}, 'm1': {'operates': {'qubits': [1]}, 'purpose': 'measure', 'type': 'measure'}, 'm2': {'operates': {'qubits': [2]}, 'purpose': 'measure', 'type': 'measure'}, 'm3': {'operates': {'qubits': [3]}, 'purpose': 'measure', 'type': 'measure'}, 'm4': {'operates': {'qubits': [4]}, 'purpose': 'measure', 'type': 'measure'}, 'u0': {'operates': {'qubits': [0, 1]}, 'purpose': 'cross-resonance', 'type': 'control'}, 'u1': {'operates': {'qubits': [0, 2]}, 'purpose': 'cross-resonance', 'type': 'control'}, 'u10': {'operates': {'qubits': [4, 2]}, 'purpose': 'cross-resonance', 'type': 'control'}, 'u11': {'operates': {'qubits': [4, 3]}, 'purpose': 'cross-resonance', 'type': 'control'}, 'u2': {'operates': {'qubits': [1, 0]}, 'purpose': 'cross-resonance', 'type': 'control'}, 'u3': {'operates': {'qubits': [1, 2]}, 'purpose': 'cross-resonance', 'type': 'control'}, 'u4': {'operates': {'qubits': [2, 0]}, 'purpose': 'cross-resonance', 'type': 'control'}, 'u5': {'operates': {'qubits': [2, 1]}, 'purpose': 'cross-resonance', 'type': 'control'}, 'u6': {'operates': {'qubits': [2, 3]}, 'purpose': 'cross-resonance', 'type': 'control'}, 'u7': {'operates': {'qubits': [2, 4]}, 'purpose': 'cross-resonance', 'type': 'control'}, 'u8': {'operates': {'qubits': [3, 2]}, 'purpose': 'cross-resonance', 'type': 'control'}, 'u9': {'operates': {'qubits': [3, 4]}, 'purpose': 'cross-resonance', 'type': 'control'}}</td></tr><tr><td>allow_object_storage</td><td>True</td></tr><tr><td>processor_type</td><td>{'family': 'Canary', 'revision': 1}</td></tr><tr><td>meas_kernels</td><td>['hw_boxcar']</td></tr><tr><td>allow_q_object</td><td>True</td></tr><tr><td>credits_required</td><td>True</td></tr><tr><td>pulse_num_channels</td><td>9</td></tr><tr><td>measure_esp_enabled</td><td>False</td></tr><tr><td>coupling_map</td><td>[[0, 1], [0, 2], [1, 0], [1, 2], [2, 0], [2, 1], [2, 3], [2, 4], [3, 2], [3, 4], [4, 2], [4, 3]]</td></tr><tr><td>uchannels_enabled</td><td>True</td></tr><tr><td>meas_lo_range</td><td>[[6.030433052, 7.030433052], [5.981651108, 6.981651108], [5.93654928, 6.93654928], [6.078886966000001, 7.078886966000001], [6.030066921, 7.030066921]]</td></tr><tr><td>input_allowed</td><td>['job']</td></tr><tr><td>backend_name</td><td>ibmqx2</td></tr><tr><td>dtm</td><td>0.2222222222222222</td></tr><tr><td>u_channel_lo</td><td>[[{'q': 1, 'scale': (1+0j)}], [{'q': 2, 'scale': (1+0j)}], [{'q': 0, 'scale': (1+0j)}], [{'q': 2, 'scale': (1+0j)}], [{'q': 0, 'scale': (1+0j)}], [{'q': 1, 'scale': (1+0j)}], [{'q': 3, 'scale': (1+0j)}], [{'q': 4, 'scale': (1+0j)}], [{'q': 2, 'scale': (1+0j)}], [{'q': 4, 'scale': (1+0j)}], [{'q': 2, 'scale': (1+0j)}], [{'q': 3, 'scale': (1+0j)}]]</td></tr><tr><td>default_rep_delay</td><td>250.0</td></tr><tr><td>open_pulse</td><td>False</td></tr><tr><td>supported_instructions</td><td>['setf', 'acquire', 'shiftf', 'x', 'measure', 'delay', 'sx', 'u3', 'play', 'rz', 'u1', 'reset', 'id', 'cx', 'u2']</td></tr><tr><td>qubit_channel_mapping</td><td>[['u4', 'u0', 'd0', 'u1', 'm0', 'u2'], ['d1', 'u3', 'u0', 'u5', 'm1', 'u2'], ['u4', 'd2', 'm2', 'u3', 'u5', 'u1', 'u8', 'u6', 'u7', 'u10'], ['u9', 'm3', 'u8', 'd3', 'u6', 'u11'], ['u9', 'd4', 'u7', 'u10', 'u11', 'm4']]</td></tr></table>"
      }
     },
     "4164ed89b75e481abcaf7e52f1447a77": {
      "model_module": "@jupyter-widgets/controls",
      "model_module_version": "1.5.0",
      "model_name": "HTMLModel",
      "state": {
       "layout": "IPY_MODEL_b50d09f611f540efa665b8983382352f",
       "style": "IPY_MODEL_16b6a6b6d89245b89babb18d3b1ba9f2",
       "value": "<h1 style='color:#ffffff;background-color:#000000;padding-top: 1%;padding-bottom: 1%;padding-left: 1%; margin-top: 0px'>ibmqx2</h1>"
      }
     },
     "4379da30b67e45c8a2c07cefedfbefa0": {
      "model_module": "@jupyter-widgets/controls",
      "model_module_version": "1.5.0",
      "model_name": "DescriptionStyleModel",
      "state": {
       "description_width": ""
      }
     },
     "4695575c411443b0916408acfb107204": {
      "model_module": "@jupyter-widgets/base",
      "model_module_version": "1.2.0",
      "model_name": "LayoutModel",
      "state": {
       "width": "95px"
      }
     },
     "4a286ba30c884a5980a705794f4e7ef8": {
      "model_module": "@jupyter-widgets/controls",
      "model_module_version": "1.5.0",
      "model_name": "DescriptionStyleModel",
      "state": {
       "description_width": ""
      }
     },
     "4a8d705f31c24667a77c7b34194451b9": {
      "model_module": "@jupyter-widgets/base",
      "model_module_version": "1.2.0",
      "model_name": "LayoutModel",
      "state": {
       "align_items": "center",
       "display": "flex-inline",
       "grid_area": "right",
       "max_height": "325px",
       "padding": "10px 10px 10px 10px",
       "width": "auto"
      }
     },
     "4d1f7af7b88043179cb6e196396a580e": {
      "model_module": "@jupyter-widgets/base",
      "model_module_version": "1.2.0",
      "model_name": "LayoutModel",
      "state": {
       "align_items": "center",
       "display": "flex-inline"
      }
     },
     "50d685c508974300a4ccee2ec1199ba5": {
      "model_module": "@jupyter-widgets/base",
      "model_module_version": "1.2.0",
      "model_name": "LayoutModel",
      "state": {
       "width": "145px"
      }
     },
     "5491955b5ce84a5eb6b7ef5bd70bed0d": {
      "model_module": "@jupyter-widgets/base",
      "model_module_version": "1.2.0",
      "model_name": "LayoutModel",
      "state": {
       "grid_area": "right",
       "padding": "0px 0px 0px 0px",
       "width": "70px"
      }
     },
     "563c1f2efa904a48a77307585160d021": {
      "model_module": "@jupyter-widgets/controls",
      "model_module_version": "1.5.0",
      "model_name": "DescriptionStyleModel",
      "state": {
       "description_width": ""
      }
     },
     "58915b0d0080406bbe4d29ed50f7dc25": {
      "model_module": "@jupyter-widgets/base",
      "model_module_version": "1.2.0",
      "model_name": "LayoutModel",
      "state": {
       "margin": "0px 0px 0px 37px",
       "width": "600px"
      }
     },
     "59a75c18150f41c3af85c4bef226b61a": {
      "model_module": "@jupyter-widgets/base",
      "model_module_version": "1.2.0",
      "model_name": "LayoutModel",
      "state": {}
     },
     "5cd25298800d41fb9f199af973df67e1": {
      "model_module": "@jupyter-widgets/base",
      "model_module_version": "1.2.0",
      "model_name": "LayoutModel",
      "state": {
       "grid_area": "left",
       "width": "100%"
      }
     },
     "5e06861d2d99484b9f7d6c173847e57a": {
      "model_module": "@jupyter-widgets/controls",
      "model_module_version": "1.5.0",
      "model_name": "HTMLModel",
      "state": {
       "layout": "IPY_MODEL_7010c4ce74b74fc19af5a4a205786ca5",
       "style": "IPY_MODEL_b382c848aa6e43b289b86901f31ddee0",
       "value": "<table><style>\ntable {\n    border-collapse: collapse;\n    width: auto;\n}\n\nth, td {\n    text-align: left;\n    padding: 8px;\n}\n\ntr:nth-child(even) {background-color: #f6f6f6;};\n</style><tr><th></th><th>Type</th><th>Gate error</th></tr><tr><td><font style='font-weight:bold'>cx0_2</font></td><td>cx</td><td>0.02556</td></tr><tr><td><font style='font-weight:bold'>cx2_0</font></td><td>cx</td><td>0.02556</td></tr><tr><td><font style='font-weight:bold'>cx0_1</font></td><td>cx</td><td>0.01809</td></tr><tr><td><font style='font-weight:bold'>cx1_0</font></td><td>cx</td><td>0.01809</td></tr></table>"
      }
     },
     "62fce06c56f745aebf5acddb654a0b9f": {
      "model_module": "@jupyter-widgets/base",
      "model_module_version": "1.2.0",
      "model_name": "LayoutModel",
      "state": {
       "grid_area": "left"
      }
     },
     "6b4f4ae74f384933b17aad04419e6b85": {
      "model_module": "@jupyter-widgets/controls",
      "model_module_version": "1.5.0",
      "model_name": "DescriptionStyleModel",
      "state": {
       "description_width": ""
      }
     },
     "6c048fb7ec064e63ba1fb352b6c5484a": {
      "model_module": "@jupyter-widgets/base",
      "model_module_version": "1.2.0",
      "model_name": "LayoutModel",
      "state": {
       "grid_area": "bottom",
       "width": "auto"
      }
     },
     "7010c4ce74b74fc19af5a4a205786ca5": {
      "model_module": "@jupyter-widgets/base",
      "model_module_version": "1.2.0",
      "model_name": "LayoutModel",
      "state": {
       "grid_area": "right"
      }
     },
     "71200208b56646569476ecaaf593579d": {
      "model_module": "@jupyter-widgets/controls",
      "model_module_version": "1.5.0",
      "model_name": "VBoxModel",
      "state": {
       "children": [
        "IPY_MODEL_89f32eeff7384bf5a0e630ee1406a50c",
        "IPY_MODEL_86d56c283be94d95bd1fcf5e0b0a52e5"
       ],
       "layout": "IPY_MODEL_1b9f700debab4311b5624048eaa86686"
      }
     },
     "73bdb87a2fd34183b3324e9fd4f5a39d": {
      "model_module": "@jupyter-widgets/base",
      "model_module_version": "1.2.0",
      "model_name": "LayoutModel",
      "state": {
       "border": "4px solid #000000",
       "max_height": "650px",
       "min_height": "650px",
       "overflow_y": "hidden"
      }
     },
     "754dee79bfa14d5cb2c4706e01b5de87": {
      "model_module": "@jupyter-widgets/controls",
      "model_module_version": "1.5.0",
      "model_name": "HTMLModel",
      "state": {
       "layout": "IPY_MODEL_4695575c411443b0916408acfb107204",
       "style": "IPY_MODEL_563c1f2efa904a48a77307585160d021",
       "value": "<h5>Status</h5>"
      }
     },
     "771a0ab1dff747af92bd1e16eac7027e": {
      "model_module": "@jupyter-widgets/controls",
      "model_module_version": "1.5.0",
      "model_name": "HTMLModel",
      "state": {
       "layout": "IPY_MODEL_eab1bb09486741a78d355cc214aefcd1",
       "style": "IPY_MODEL_041201f406804c3fb202d4fc224ce422",
       "value": "<h5>Queue</h5>"
      }
     },
     "78d3f137090a46d7945b543fa3227b86": {
      "model_module": "@jupyter-widgets/controls",
      "model_module_version": "1.5.0",
      "model_name": "GridBoxModel",
      "state": {
       "children": [
        "IPY_MODEL_1559c1bee3f4470a9293e89fc299898c"
       ],
       "layout": "IPY_MODEL_3e0aa9dca62241ea9d4ef613a08a6cac"
      }
     },
     "7d37d4c0f56843de93952fcd0269b8a2": {
      "model_module": "@jupyter-widgets/base",
      "model_module_version": "1.2.0",
      "model_name": "LayoutModel",
      "state": {
       "width": "190px"
      }
     },
     "86d56c283be94d95bd1fcf5e0b0a52e5": {
      "model_module": "@jupyter-widgets/controls",
      "model_module_version": "1.5.0",
      "model_name": "HTMLModel",
      "state": {
       "layout": "IPY_MODEL_59a75c18150f41c3af85c4bef226b61a",
       "style": "IPY_MODEL_bbcbdc45186b46a5b7ae17e2b2839231",
       "value": "<table><style>\ntable {\n    border-collapse: collapse;\n    width: auto;\n}\n\nth, td {\n    text-align: left;\n    padding: 8px;\n}\n\ntr:nth-child(even) {background-color: #f6f6f6;}\n</style><tr><th></th><th>Frequency</th><th>T1</th><th>T2</th><th>RZ</th><th>SX</th><th>X</th><th>Readout error</th></tr><tr><td><font style='font-weight:bold'>Q0</font></td><td>5.28233 GHz</td><td>55.76148 us</td><td>26.41991 us</td><td>0</td><td>0.00126</td><td>0.00126</td><td>0.0808 </td><tr><td><font style='font-weight:bold'>Q1</font></td><td>5.24751 GHz</td><td>57.59329 us</td><td>23.67803 us</td><td>0</td><td>0.00118</td><td>0.00118</td><td>0.1933 </td><tr><td><font style='font-weight:bold'>Q2</font></td><td>5.0334 GHz</td><td>66.96718 us</td><td>50.69044 us</td><td>0</td><td>0.00045</td><td>0.00045</td><td>0.0791 </td><tr><td><font style='font-weight:bold'>Q3</font></td><td>5.29197 GHz</td><td>67.43118 us</td><td>34.52427 us</td><td>0</td><td>0.00039</td><td>0.00039</td><td>0.084 </td><tr><td><font style='font-weight:bold'>Q4</font></td><td>5.07839 GHz</td><td>61.60496 us</td><td>12.83921 us</td><td>0</td><td>0.00311</td><td>0.00311</td><td>0.1214 </td></table>"
      }
     },
     "89f32eeff7384bf5a0e630ee1406a50c": {
      "model_module": "@jupyter-widgets/controls",
      "model_module_version": "1.5.0",
      "model_name": "HTMLModel",
      "state": {
       "layout": "IPY_MODEL_8abdf153e042462a8f7e712c84c9b1f9",
       "style": "IPY_MODEL_e3467a24ae0640db9f0a7c4db3119ddc",
       "value": "<div><font style='font-weight:bold'>last_update_date</font>: Wed 04 August 2021 at 05:15 UTC</div>"
      }
     },
     "8abdf153e042462a8f7e712c84c9b1f9": {
      "model_module": "@jupyter-widgets/base",
      "model_module_version": "1.2.0",
      "model_name": "LayoutModel",
      "state": {}
     },
     "8f13a54ee45249f8bddb97bcf3bc6b73": {
      "model_module": "@jupyter-widgets/controls",
      "model_module_version": "1.5.0",
      "model_name": "VBoxModel",
      "state": {
       "children": [
        "IPY_MODEL_4164ed89b75e481abcaf7e52f1447a77",
        "IPY_MODEL_b52a26b89888464e8c2a8598699cd912"
       ],
       "layout": "IPY_MODEL_73bdb87a2fd34183b3324e9fd4f5a39d"
      }
     },
     "9557a8ab5095436f92907fa14984a4ea": {
      "model_module": "@jupyter-widgets/base",
      "model_module_version": "1.2.0",
      "model_name": "LayoutModel",
      "state": {
       "grid_gap": "0px 0px",
       "grid_template_areas": "\n                               \"left right right right\"\n                               \"bottom bottom bottom bottom\"\n                               ",
       "grid_template_columns": "31% 23% 23% 23%",
       "grid_template_rows": "auto auto"
      }
     },
     "9723de35eef2423393e772a9851bc89a": {
      "model_module": "@jupyter-widgets/base",
      "model_module_version": "1.2.0",
      "model_name": "LayoutModel",
      "state": {
       "grid_area": "middle"
      }
     },
     "9a47af4fb9944b029147dbac67f08810": {
      "model_module": "@jupyter-widgets/controls",
      "model_module_version": "1.5.0",
      "model_name": "HTMLModel",
      "state": {
       "layout": "IPY_MODEL_b0d8b01c6149450d87f3f1e33669fb03",
       "style": "IPY_MODEL_4a286ba30c884a5980a705794f4e7ef8",
       "value": "<h5>Message</h5>"
      }
     },
     "9edfe152a6ac424b943ca706e212e6cb": {
      "model_module": "@jupyter-widgets/output",
      "model_module_version": "1.0.0",
      "model_name": "OutputModel",
      "state": {
       "layout": "IPY_MODEL_4a8d705f31c24667a77c7b34194451b9",
       "outputs": [
        {
         "data": {
          "image/png": "iVBORw0KGgoAAAANSUhEUgAAAR4AAAEeCAYAAABcyXrWAAAAOXRFWHRTb2Z0d2FyZQBNYXRwbG90bGliIHZlcnNpb24zLjQuMiwgaHR0cHM6Ly9tYXRwbG90bGliLm9yZy8rg+JYAAAACXBIWXMAAAsTAAALEwEAmpwYAAAVIElEQVR4nO3debQddWHA8e9LAtnDGipBUDAJBgh79bBYRDAWioq0iFaroE6P1PY4VkSrVlBcqoJOj1aUEUvVWhUUhZYjUjmiYIHDouyyKQaQ/UCS97Ln9Y/fffB4CeHd5f1m5v6+n3NyCC/vzvwyuff7Zp+B4eFhJCmmSVUPQFJ6DI+k6AyPpOgMj6ToDI+k6AyPpOgMj6ToDI+k6AyPpOgMj6ToDI+k6AyPpOgMj6ToDI+k6AyPpOgMj6ToDI+k6AyPpOgMj6ToDI+k6AyPpOgMj6ToDI+k6AyPpOgMj6ToDI+k6AyPpOgMj6ToDI+k6AyPpOgMj6ToDI+k6AyPpOgMj6ToDI+k6AyPpOgMj6ToDI+k6AyPpOgMj6ToDI+k6AyPpOgMj6ToDI+k6AyPpOgMj6ToDI+k6AyPpOgMj6ToDI+k6AyPpOgMj6ToDI+k6AyPpOgMj6ToDI+k6KZUPQA1Q1YwALwQOADYA5gDDACDwN3A9cBdZc6GygapxhgYHh6uegyqsaxgX+AfgWMJP6jWALOAya1vGQZWENaepwBXAGcCPzNCei6GR5uUFSwBzgJ2A6byTGiezzBhLWg5cBrw9TLHN5mexfDoWbKCrYAvA8cBM7qc3CBwM/CmMue+bsem/mF49LSsYH/gUsKm1LQeTXYdsBo4scy5oEfTVMN5VEsAZAUHE/bPbE/vogNhv89M4JtZwUk9nK4azDUejexA/iVhTWciDRHWfM6f4Pmo5gxP4rKCGcBdwI6Ew+MTbQhYXObcG2Feqik3tfR5YBviRAfCEbLvZYXvvZT5j5+wrOAg4CRgesTZTgYWASdHnKdqxvCk7RP0dkfyeM0ETsuKcZ8bpD5jeBKVFewCHEq8TayxpgFHVTRvVczwpOtkqosOwGzg1Arnrwp5VCtRWcFvgYXtvu6I/eDQPWDedjBpElx0NVx8dcfDWAvMLHPWdjwFNZJrPAnKCrYEdu3ktS/aAQZXwxMrejKUVcCePZmSGsXwpGlPwoe+bd+4FM68AJY+2pNxTCLcZkOJMTxpWgi1uGJ8JuHePkqM4UnTdOrzbz+76gEovrq8+RRXHdZ2RnizsAQZnjQNUY8P/DDhhmFKjPdcTtPtdPhD59A9YcFOsMvc8P/7vQS2nwM33gO/vqftyY3cKEyJMTxpugPYspMXLtgJDh61O3jnueHXY8s6Cg+Em8QrMZ5AmKis4BaqP4dmDTCjzFlf8TgUmft40vVdYGWF8x8GLjc6aTI86TqHaq/VGgQ+V+H8VSHDk6gy5xHgJ1R3dOtJ4OcVzVsVMzxp+xjhCRCxDQKn+rytdBmehJU5NxNufToYcbZrgKsI+5iUKMOjTxI2e2JZDbzdtZ20GR4dBewQaV5DwBvKnIcizU81ZXgSlhW8DrgA2CLC7IaAE8qcn0WYl2rOM5cTtZnoPEJ4sF+3z00fsZpn1nSu6NE01XCu8SRoM9F5F7AzUBBOLux2P8wQcDEw3+hoNC+ZSMzmolPmnDvq+/YFPg0cTjjRcOo4Z7GOcC/lO4CPljmXdDtm9R/Dk5DxRmfMa3YiPJHizYS1oZXAnDHf9hRh0+wx4BKgKHNu6eHQ1WcMTyI6ic4mpjENWAxcO+aPXgncWOYs63acSoPhSUAvojNmes9605R5pdd8qYHcudzneh0dqRcMTx8zOqorw9OnjI7qzPD0IaOjujM8fcboqAkMTx8xOmoKw9MnjI6axPD0AaOjpjE8DWd01ESGp8GMjprK8DSU0VGTGZ4GMjpqOsPTMFnBJ4ELMTpqMG992iCt6HxkE39kdNQorvE0RFZwBkZHfcLwNEBW8HrgQ5v4o/OMjprI8NRcKzrns/Fm8XllzkkVDEnqmuGpsVHRGb0jeRg41+ioydy5XFObic67ypxvVDMqqTdc46kho6N+Z3hqxugoBYanRoyOUmF4asLoKCWGpwaMjlJjeCpmdJQiw1Mho6NUGZ6KGB2lzPBUwOgodYYnMqMjGZ6ojI4UGJ5IjI70jIHh4eGqx1BLWcEkYAFwALA3sDUwGRgE7gSuA24qc1aNY1qNj05WMBlYCBwIfHPMH7+bsDxuKXNWxx5bFbKCKcBLCe+PvYA5wACwArgNuJ6wPNZWNsgaMzyjZAUDwMuB9wPHAOuBDcAswptqxBCwDpgB3AR8DriwzFmziWk2Njqt5XEocArwGmAtYeyzx3zryPKYDtxAWB4XlTnr4o124rWWx+HAB4BXwdP/3jN59vtjkPDemQ5cDXweuKTMWR9vtPVmeFqygqOBAphHeMO0sxm6nBCoM4HPjvyUa3h03gCcBcxl4w/W81lOCNGngS82/QPXCs6bgc8S1nw7WR6rgdOBs8ucDT0eYuMkH56sYBvgbOC1hDWYbgwC9wNvBHalgdHJCrYHzgWOIHzAujEI3Au8scy5o9uxVSEr2JGwaXkQvVketwMnlDn3dju2Jks6PFnB/sBPCZtSU3s02WHCJsnk1q/RX697dA4GLgGm0bvlsYHw0/7vypzzejTNKLKCIwiPEprGxo8T6tR6wvI4scw5v0fTbJxkj2q1PmRXANvRuw8ZhFXwLWledI4gRHgrers8JhE2Xf8tK3hvD6c7obKCY4CLCPuzehUdCO+LGcB5WZHu7WuTXOPJCvYBriSs6Uy0JkTn5cDldL+p+XyGgPfUfc0nK3gl8D9M/PJYCbytzLlggudTO8mt8WQF04GL6X57fbzWAjdGmlfbsoLZhOUx0R8yWvP4Slbw0gjz6khWsC3wQ+Isj+mENZ8XR5hXrSQXHuAzhM2rdo5KdGML4PysYMtI82vXvxJnzW/EVOD7rfOC6ugc4kRnxFTgO60jZ8lIKjxZwYHA3xL3jTUA7Ah8NOI8xyUrOAw4gfCTN5ZJwG5AHnGe49I6peIoeruP6/lMIZyg+q6I86xcUuEBTiMcoYhtBvC+1mZenXyCuBEeMRP4SOvs3zr5FNUtj9NbZ8snIZm/aFbwAuDVxNvE2pTjK5z3s2QFuwEvq3AIUwjnTtVCVrAY2L3CIcwhnDuVhGTCQ9jEqvIQ3izggxXOf6z3UO2//2zqtTzeS28Pm7drJuHSlCQkczg9K7gR2LeT106ZDMe/Ag5cCNO2hD88At//BfzuobYntRbYvsxZ1sk4eikruAuY3+7r3nYkzJ8H28yCdevDMrjgSnjw8Y6GsRaYXYcLS7OCBwn74tp20hJYtAvMmgar1sJ9D8MPr4Klj7Y9qVXAzBQuqUhijae17byo09e/6TB41b6wbAh+fQ/stiO87w3hjdamIWC/TsfRK1nBVOBFnbz2FXvB0Gq49rewag0s3hXyY0OcO7CScGV3pbKCrYDtO339dnPgzvvhqttgcCXs9WJ4T2cbkevp4IdBE9Vt595EWUC4aLHtoxWzp8Mhe8KGDfCFH8DylbB+Axy0CA7fFy6+uq3JTSPcRuGKdsfRY3sRPvRtb1qc8Z2wxgfhA/cv74BtZsO8beEP7f+En0JYHte3/cre2o/wQ2GrTl585qjT/3aZC//8lrBGOHlSeK+0YQNhedzZyTiaJJXwzIfObtEwb7vw0/yxp0J0IKxKH7QIdp7b9uSmAmdlBWd1MpY6GIkOwJTW+vL6DfDUYEeTmwF8LSv4Wvcjq9bh+8CO28KincP///SGtqMDYT/ggt6OrJ5SCc80OjyaNad1cHXVqNs5rW79fqsqDrzWxNQt4MQl4feX3QBPDVU7nqodsAB2f2H4/RPL4e4HO5rMAPHOqK9UEvt4CEezOtqLvqz1gZo2aqNkausc5FQ/bLOmwyl/GXYy/+Jm+MGVVY+oemdeACd/Cb58EWw9E979F7Dt2NuljU+j7100XqmEp7MNAeDBJ8LRm21nw+zWGs6ufxL+e3/7+zQab9vZ8MHj4cUvgEuuhW/9rOoRVWuLyTDQWpdetx5uvS+sHU+ZDHPb32O0jnDr1L6XyqbWbdDZtVLLh+BXt8GfLYb3HwcPPB4Oq69aA5f/pu3JDQHvL3O+2slYeiUrWARcSwfXaH3ohLDj9PFlsOUWcMJh4evX3AG/f7jtoSwn3Kfn222/soeygpcBlxFO4mvLrjtC9udw5wPhaN+CeTBjalhTHr0/bJwGgVvbflUDpRKe++lw5zLAd38edhQeuAB22Bru/SOc/0tYsbLtSa2j+iM4EI6adHSy3DatVG03B44cdWLA0kc7Cs8A4SbxVbuJDi+VeGoFPPwk7LFLOMdr+Uq47k64+BpYudEduJ/XVOrx/phwKZ1AeCVwSMXDWAvMGc+TKSZaVnATsLjiYawGZtThhLms4F7C7WqrtAzYuswrPcM+ilT28QB8i+q3n6+qQ3Ravk3Y9KvKBuDSOkSn5TtQ6b/NOuDHKUQH0grPf1Lt33c54bEvdXEu1S6PIcJjX+ri7Irnvwb4QsVjiCaZ8JQ5Kwg/5at6wNoQcGlF895ImfM48GOqO3z7CHBVRfPeSJnzAPBzqruQ+J4y59cVzTu6ZMLT8mnY+KF7EQwCp9Zos2LEaVSzPIaAU2q4WfFPVLO5NUR4iGQykgpPmXMf4SmQHZ/X04G1hEPX34o4z3Epc35LuBlYzOWxGriszLkw4jzHpbXG8UXi7vtaBfygzLks4jwrl1R4Wr4K3Ey8Ta7VwFtr+NN9xOcJD92L9bjhVdT7Np8fJ95BiOHWvP4+0vxqI7nwtALweuBhJn7/xhBwbJnT2ZU7EbQeL3w08ARM+KbgIHB0mfPYBM+nG38D7BBpXoPAkjrcnym25MIDUOY8AhwMPMTErfkMER5VW/uLCsqc+wnnOD3OxK35DAKvK3N+NUHT71pW8E7g6xFmNUw4yvmaMq/vo48mUpLhAShzlhLuffIberuPYxVh7eHoMue/ezjdCVXm3A3sT3i2dy+Xx0rCEawjypzLezjdnnqO6KwFHqD3y+NB4BV1jvBESzY8AGXOw8DLgQ8T1lC63fQaAn4EvKTMK7/ZV9taaz77AZ8kfEB6sTz+C5hf5lzT5bQmzGai81eEs5nPIiyPbjZFh1vTOBdYWOa0f6VfH0nmkonn03rqwumEJ0GsZ/z3RVlDeEPeAJzeL0cnsoLdCTtaX0/4+433WqaR5XENcFrdA7y56JQ5F436vsWE5XEUISLjfVTR6tb3/4KwPNq7Z2WfMjxjZAVbA29v/VpEiNB6nlk7HLm3z3RgKeEZ218qc+6KPtgIsoLtgHcCbyE8/mUtG1/VvoywPH5PeBzyl8uc30UcZkfGG50xr9kByIA3AQt5JrSj3x8Qbj53L3Ah8JXWpr1aDM9mtG4SP59wj+KZwGTCPpx7gJtrdN1VFK3lsZCwH2i0A4BbyrySkxE70kl0NjGNycBLCT+gZhDiM0S4+v/WMq/sLPnaMzxqW1Y8+5ykMm/Wc797ER11J+mdy0qP0akHw6NkGJ36MDxKgtGpF8Ojvmd06sfwqK8ZnXoyPOpbRqe+DI/6ktGpN8OjvmN06s/wqK8YnWYwPOobRqc5DI/6gtFpFsOjxjM6zZPKs9PVp7KCfwdOHPNlo1NzrvGosYxOcxkeNVJWcC4bR2cDRqcRDI8ap7VP5x2b+KPPGJ1mMDxqlM08guZTZc5HY49HnXHnshrjOaKzjrCm87EKhqQOGR41gofM+4ubWqo9o9N/DI9qzej0J8Oj2jI6/cvwqJaMTn8zPKodo9P/DI9qxeikwfCoNoxOOgyPasHopMXwqHJGJz2GR5UyOmkyPKqM0UmX4VEljE7aBoaHh6segxogK5gG7A0cAHxlzB+fAlwP3FDmLBvHtIxO4gyPnlNWMBl4DXAqcDCwknBHgxljvnU1sKr19buAzwHfL3NWbmKaRkeGRxvLCgaAtxECMh2Y3eYkVrT+WwBnlDlrWtM1OgIMj8bICnYCvg38KTCzy8kNAX8Ejgf2x+ioxfDoaVnBkcCFwFRgix5Ndphwl8Cx0zM6CTM8AiArOAb4Hhvvv5kIRidxhkdkBYcBlxAnOuuB44xO2jyPJ3FZwTbAD4kTHQjh+X2keammDI/OpvudyO3YAjg/K3q2D0kNZHgSlhW8GngtYWdyLAPAToRzg5Qow5O2jxNvE2u0mcAHsoItK5i3asDwJCorWAjsW+EQJgHHVjh/VcjwpOsfqPaBjrNxcytZhiddR9PFSYIv2x3KPPw64bCOx7B36+JTJcbwJKj1Yd+l09dvMwv++nBYt77roawEFnc9FTWO4UnT3oTrqDpy0hJ4ahBuuLvrcUwBDux6Kmocw5Om3QiHtdt25H4wfx58/Sc9WeOZASzseipqHMOTpul0EJ5528Fxh8BFV8PSR3s2lpgnL6omqjyqoep0tK5ywHyYPBkW7gQL5sEL54av77MbrFkHF14VbyxqNsOTphXAhrZfNQCTBmDxrs/+8tyt4CU7djSOYeDJjl6pRjM8aboVmNzuiy6+OvwacdISOHgP+N8b4XtXdDSOFcBNHb1SjeY+njTdRQfhmQCTCDeJV2K8H0+isoIbqfaSCQg3iJ9Z5h1s9qnRXONJ138AgxXOfwNwsdFJk+FJ13lUu7m1EjirwvmrQoYnUWXOk8D5VHc4+wHg2ormrYoZnrSdTngYX2xDwPvKHHcwJsrwJKzMuRf4MHH39awCLipzLok4T9WM4dGXgNsJj5yJYRA4OdK8VFOGJ3Gto0rHAI8w8ft7VgBLWvuXlDDDI8qch4GDCI8bnog1n2FgOSE6N0zA9NUwhkcAlDlLCffGuY7e7vMZApYCh5Y5/9fD6arBDI+e1lrzOQQ4hRCfdV1Mbphwrs45wO5l7jVZeoaXTGiTsoIXEY54vZVwlvGscb50Veu/PwXOKHOum4DhqeEMjzYrK5gFvIUQoH0IN4gfOfdngLBmM4VwFvTtwI+Ac8qch6IPVo1heDRuWfH0U0D3JNy2dBJhc+pu4G6vu9J4GR5J0blzWVJ0hkdSdIZHUnSGR1J0hkdSdIZHUnSGR1J0hkdSdIZHUnSGR1J0hkdSdIZHUnSGR1J0hkdSdIZHUnSGR1J0hkdSdIZHUnSGR1J0hkdSdIZHUnSGR1J0hkdSdIZHUnSGR1J0hkdSdIZHUnSGR1J0hkdSdIZHUnSGR1J0hkdSdIZHUnSGR1J0hkdSdIZHUnSGR1J0hkdSdIZHUnSGR1J0hkdSdIZHUnSGR1J0hkdSdIZHUnSGR1J0hkdSdIZHUnSGR1J0hkdSdIZHUnSGR1J0hkdSdIZHUnSGR1J0hkdSdP8PgRLkZNWcdvwAAAAASUVORK5CYII=\n",
          "text/plain": "<Figure size 360x360 with 1 Axes>"
         },
         "metadata": {},
         "output_type": "display_data"
        }
       ]
      }
     },
     "a3fca86904b34d7386c5d328641098d4": {
      "model_module": "@jupyter-widgets/output",
      "model_module_version": "1.0.0",
      "model_name": "OutputModel",
      "state": {
       "layout": "IPY_MODEL_4d1f7af7b88043179cb6e196396a580e",
       "outputs": [
        {
         "data": {
          "image/png": "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\n",
          "text/plain": "<Figure size 792x648 with 5 Axes>"
         },
         "metadata": {},
         "output_type": "display_data"
        }
       ]
      }
     },
     "a7d72b81a57742619fa48bcbe71b1634": {
      "model_module": "@jupyter-widgets/controls",
      "model_module_version": "1.5.0",
      "model_name": "GridBoxModel",
      "state": {
       "children": [
        "IPY_MODEL_1385a904d525458983cd76887cb00110",
        "IPY_MODEL_f04799ee34b440d1864e0217473a7d79",
        "IPY_MODEL_36a00da161404480aca761fa180236fa",
        "IPY_MODEL_5e06861d2d99484b9f7d6c173847e57a"
       ],
       "layout": "IPY_MODEL_1038367c44f647cb8ec818342450f240"
      }
     },
     "ad40ff2ed0a14e5aa458afe12327b95a": {
      "model_module": "@jupyter-widgets/controls",
      "model_module_version": "1.5.0",
      "model_name": "HTMLMathModel",
      "state": {
       "layout": "IPY_MODEL_5cd25298800d41fb9f199af973df67e1",
       "style": "IPY_MODEL_3af82620f00a4367b633062e6e98c492",
       "value": "<table><style>\ntable {\n    border-collapse: collapse;\n    width: auto;\n}\n\nth, td {\n    text-align: left;\n    padding: 8px;\n}\n\ntr:nth-child(even) {background-color: #f6f6f6;}\n</style><tr><th>Property</th><th>Value</th></tr><tr><td><font style='font-weight:bold'>n_qubits</font></td><td>5</td></tr><tr><td><font style='font-weight:bold'>quantum_volume</font></td><td>8</td></tr><tr><td><font style='font-weight:bold'>operational</font></td><td>True</td></tr><tr><td><font style='font-weight:bold'>status_msg</font></td><td>active</td></tr><tr><td><font style='font-weight:bold'>pending_jobs</font></td><td>8</td></tr><tr><td><font style='font-weight:bold'>backend_version</font></td><td>2.3.6</td></tr><tr><td><font style='font-weight:bold'>basis_gates</font></td><td>['id', 'rz', 'sx', 'x', 'cx', 'reset']</td></tr><tr><td><font style='font-weight:bold'>max_shots</font></td><td>8192</td></tr><tr><td><font style='font-weight:bold'>max_experiments</font></td><td>75</td></tr></table>"
      }
     },
     "b0d8b01c6149450d87f3f1e33669fb03": {
      "model_module": "@jupyter-widgets/base",
      "model_module_version": "1.2.0",
      "model_name": "LayoutModel",
      "state": {}
     },
     "b382c848aa6e43b289b86901f31ddee0": {
      "model_module": "@jupyter-widgets/controls",
      "model_module_version": "1.5.0",
      "model_name": "DescriptionStyleModel",
      "state": {
       "description_width": ""
      }
     },
     "b50d09f611f540efa665b8983382352f": {
      "model_module": "@jupyter-widgets/base",
      "model_module_version": "1.2.0",
      "model_name": "LayoutModel",
      "state": {
       "margin": "0px 0px 0px 0px"
      }
     },
     "b52a26b89888464e8c2a8598699cd912": {
      "model_module": "@jupyter-widgets/controls",
      "model_module_version": "1.5.0",
      "model_name": "TabModel",
      "state": {
       "_titles": {
        "0": "Configuration",
        "1": "Qubit Properties",
        "2": "Multi-Qubit Gates",
        "3": "Error Map",
        "4": "Job History"
       },
       "children": [
        "IPY_MODEL_08691c11d7af4928a6f411b1b16478cd",
        "IPY_MODEL_71200208b56646569476ecaaf593579d",
        "IPY_MODEL_a7d72b81a57742619fa48bcbe71b1634",
        "IPY_MODEL_a3fca86904b34d7386c5d328641098d4",
        "IPY_MODEL_06e38d9bef364c97853100779fba744e"
       ],
       "layout": "IPY_MODEL_26d838aff71f4b858e406975b5d9a291"
      }
     },
     "b56914d2962f4de0850a841f28b9abf0": {
      "model_module": "@jupyter-widgets/controls",
      "model_module_version": "1.5.0",
      "model_name": "HTMLModel",
      "state": {
       "layout": "IPY_MODEL_7d37d4c0f56843de93952fcd0269b8a2",
       "style": "IPY_MODEL_3a87604f4d8842a78f5a1c1bb63ccace",
       "value": "<h5>Job ID</h5>"
      }
     },
     "b8528135312c4eb28bb50daa2be92dca": {
      "model_module": "@jupyter-widgets/controls",
      "model_module_version": "1.5.0",
      "model_name": "DescriptionStyleModel",
      "state": {
       "description_width": ""
      }
     },
     "bbcbdc45186b46a5b7ae17e2b2839231": {
      "model_module": "@jupyter-widgets/controls",
      "model_module_version": "1.5.0",
      "model_name": "DescriptionStyleModel",
      "state": {
       "description_width": ""
      }
     },
     "bc245a94967d4bb88a0c8a65c3c8d423": {
      "model_module": "@jupyter-widgets/controls",
      "model_module_version": "1.5.0",
      "model_name": "HTMLModel",
      "state": {
       "layout": "IPY_MODEL_17789b5e799644a0a9a20a7651381966",
       "style": "IPY_MODEL_d270a7cbb8e4442ba4cd351bc7c458ae",
       "value": "<p style='font-family: IBM Plex Sans, Arial, Helvetica, sans-serif; font-size: 20px; font-weight: medium;'>Circuit Properties</p>"
      }
     },
     "c84c0630db4d4fd59fa878106db29f3c": {
      "model_module": "@jupyter-widgets/controls",
      "model_module_version": "1.5.0",
      "model_name": "HTMLModel",
      "state": {
       "layout": "IPY_MODEL_50d685c508974300a4ccee2ec1199ba5",
       "style": "IPY_MODEL_d5189d02fac9449096e14b654df5cec8",
       "value": "<h5>Backend</h5>"
      }
     },
     "cfe8e5ef85024ff998ad5c28c867bf86": {
      "model_module": "@jupyter-widgets/controls",
      "model_module_version": "1.5.0",
      "model_name": "HBoxModel",
      "state": {
       "children": [
        "IPY_MODEL_b56914d2962f4de0850a841f28b9abf0",
        "IPY_MODEL_c84c0630db4d4fd59fa878106db29f3c",
        "IPY_MODEL_754dee79bfa14d5cb2c4706e01b5de87",
        "IPY_MODEL_771a0ab1dff747af92bd1e16eac7027e",
        "IPY_MODEL_9a47af4fb9944b029147dbac67f08810"
       ],
       "layout": "IPY_MODEL_58915b0d0080406bbe4d29ed50f7dc25"
      }
     },
     "d270a7cbb8e4442ba4cd351bc7c458ae": {
      "model_module": "@jupyter-widgets/controls",
      "model_module_version": "1.5.0",
      "model_name": "DescriptionStyleModel",
      "state": {
       "description_width": ""
      }
     },
     "d5189d02fac9449096e14b654df5cec8": {
      "model_module": "@jupyter-widgets/controls",
      "model_module_version": "1.5.0",
      "model_name": "DescriptionStyleModel",
      "state": {
       "description_width": ""
      }
     },
     "d65c7ed8e81e4e58bd0e0872c3e941c6": {
      "model_module": "@jupyter-widgets/controls",
      "model_module_version": "1.5.0",
      "model_name": "ButtonStyleModel",
      "state": {}
     },
     "e16a8a7e43b34d869acdbc9017453c71": {
      "model_module": "@jupyter-widgets/controls",
      "model_module_version": "1.5.0",
      "model_name": "DescriptionStyleModel",
      "state": {
       "description_width": ""
      }
     },
     "e3467a24ae0640db9f0a7c4db3119ddc": {
      "model_module": "@jupyter-widgets/controls",
      "model_module_version": "1.5.0",
      "model_name": "DescriptionStyleModel",
      "state": {
       "description_width": ""
      }
     },
     "eab1bb09486741a78d355cc214aefcd1": {
      "model_module": "@jupyter-widgets/base",
      "model_module_version": "1.2.0",
      "model_name": "LayoutModel",
      "state": {
       "width": "70px"
      }
     },
     "f04799ee34b440d1864e0217473a7d79": {
      "model_module": "@jupyter-widgets/controls",
      "model_module_version": "1.5.0",
      "model_name": "HTMLModel",
      "state": {
       "layout": "IPY_MODEL_62fce06c56f745aebf5acddb654a0b9f",
       "style": "IPY_MODEL_6b4f4ae74f384933b17aad04419e6b85",
       "value": "<table><style>\ntable {\n    border-collapse: collapse;\n    width: auto;\n}\n\nth, td {\n    text-align: left;\n    padding: 8px;\n}\n\ntr:nth-child(even) {background-color: #f6f6f6;};\n</style><tr><th></th><th>Type</th><th>Gate error</th></tr><tr><td><font style='font-weight:bold'>cx4_2</font></td><td>cx</td><td>0.0185</td></tr><tr><td><font style='font-weight:bold'>cx2_4</font></td><td>cx</td><td>0.0185</td></tr><tr><td><font style='font-weight:bold'>cx3_4</font></td><td>cx</td><td>0.01516</td></tr><tr><td><font style='font-weight:bold'>cx4_3</font></td><td>cx</td><td>0.01516</td></tr></table>"
      }
     }
    },
    "version_major": 2,
    "version_minor": 0
   }
  }
 },
 "nbformat": 4,
 "nbformat_minor": 5
}
